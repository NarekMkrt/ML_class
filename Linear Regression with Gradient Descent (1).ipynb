{
 "cells": [
  {
   "cell_type": "markdown",
   "metadata": {
    "id": "mUWpcrjVPSYv"
   },
   "source": [
    "# Implement Linear Regression with Gradient Descent"
   ]
  },
  {
   "cell_type": "code",
   "execution_count": 80,
   "metadata": {
    "id": "e2xNkXYCPSYx"
   },
   "outputs": [],
   "source": [
    "import numpy as np\n",
    "\n",
    "class LinearRegression:\n",
    "    def __init__(self, learning_rate=0.01, n_iters=1000):\n",
    "        self.learning_rate = learning_rate\n",
    "        self.n_iters = n_iters\n",
    "        self.weights = None\n",
    "        #self.bias = None\n",
    "    \n",
    "    def fit(self, X, y):\n",
    "        # Initialize the weights and bias to zeros\n",
    "        X = np.hstack((X, np.ones((X.shape[0], 1))))\n",
    "\n",
    "        self.weights = np.zeros((X.shape[1], 1))\n",
    "        #self.bias = \n",
    "        n = X.shape[0]\n",
    "        # Gradient descent\n",
    "        for i in range(self.n_iters):\n",
    "            y_pred = self.predict(X, True)\n",
    "            \n",
    "            # Fill in the code to calculate the gradients\n",
    "            dw = (1/n) * (X.T.dot(y_pred - y))\n",
    "            #db = (y_pred - y).mean()\n",
    "            \n",
    "            # Fill in the code to update the weights and bias\n",
    "            self.weights -= self.learning_rate * dw\n",
    "            #self.bias -= \n",
    "            r2 = r2_score(y_pred, y)\n",
    "            print(i, '     ', r2)\n",
    "            \n",
    "    def predict(self, X, is_training = False):\n",
    "        if not is_training:\n",
    "            X = np.hstack((X, np.ones((X.shape[0], 1))))\n",
    "        y_pred = np.dot(X, self.weights) #+ self.bias\n",
    "        return y_pred"
   ]
  },
  {
   "cell_type": "code",
   "execution_count": 9,
   "metadata": {
    "id": "faJvvittPjfV"
   },
   "outputs": [],
   "source": [
    "reg = LinearRegression() "
   ]
  },
  {
   "cell_type": "code",
   "execution_count": 10,
   "metadata": {
    "id": "o-f0lHQhUDt2"
   },
   "outputs": [],
   "source": [
    "X = np.array([[1, 2], [2, 3], [3, 4]])\n",
    "Y = np.array([4, 5, 6]).reshape(-1,1)"
   ]
  },
  {
   "cell_type": "code",
   "execution_count": 11,
   "metadata": {
    "id": "xFDFtWzyUHa8"
   },
   "outputs": [],
   "source": [
    "reg.fit(X,Y)"
   ]
  },
  {
   "cell_type": "code",
   "execution_count": 13,
   "metadata": {
    "colab": {
     "base_uri": "https://localhost:8080/"
    },
    "id": "WQEzKAeZUK-n",
    "outputId": "bb1f66e2-89f4-4664-c564-2bacfdc3eba0"
   },
   "outputs": [
    {
     "data": {
      "text/plain": [
       "array([[-0.05345578],\n",
       "       [ 1.25146582],\n",
       "       [ 1.30492161]])"
      ]
     },
     "execution_count": 13,
     "metadata": {},
     "output_type": "execute_result"
    }
   ],
   "source": [
    "reg.weights"
   ]
  }
 ],
 "metadata": {
  "colab": {
   "provenance": []
  },
  "kernelspec": {
   "display_name": "Python 3 (ipykernel)",
   "language": "python",
   "name": "python3"
  },
  "language_info": {
   "codemirror_mode": {
    "name": "ipython",
    "version": 3
   },
   "file_extension": ".py",
   "mimetype": "text/x-python",
   "name": "python",
   "nbconvert_exporter": "python",
   "pygments_lexer": "ipython3",
   "version": "3.9.12"
  }
 },
 "nbformat": 4,
 "nbformat_minor": 1
}
