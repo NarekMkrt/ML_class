{
 "cells": [
  {
   "cell_type": "code",
   "execution_count": 1,
   "id": "52a03903",
   "metadata": {},
   "outputs": [],
   "source": [
    "import numpy as np\n",
    "class DenseLayer:\n",
    "    def __init__():\n",
    "        pass\n",
    "        \n",
    "    def init(n_nodes, n_features):\n",
    "        W1 = np.random.normal(0, 2/(n_nodes+n_features), size=(n_nodes, n_features))\n",
    "        b1 = np.random.randn(n_nodes,1)\n",
    "        \n",
    "        return W1, b1"
   ]
  },
  {
   "cell_type": "code",
   "execution_count": 33,
   "id": "803c44b1",
   "metadata": {},
   "outputs": [],
   "source": [
    "class DenseNetwork:\n",
    "    def __init__(self, layer_1, layer_2, lr = 0.01, max_iter = 1500):\n",
    "        self.lr = lr\n",
    "        self.max_iter = max_iter\n",
    "        self.W1 = None\n",
    "        self.b1 = None\n",
    "        self.W2 = None\n",
    "        self.b2 = None\n",
    "        self.layer_1 = layer_1\n",
    "        self.layer_2 = layer_2\n",
    "\n",
    "    def call(self, X, y = None, training = False):\n",
    "        if training:\n",
    "            \n",
    "              # Initializing weights and biases\n",
    "            self.W1, self.b1 = self.layer_1\n",
    "            self.W2, self.b2 = self.layer_2\n",
    "            \n",
    "            self.m = y.size\n",
    "            for i in range(self.max_iter):\n",
    "                \n",
    "                  # Forward propagatiion\n",
    "                Z_1 = self.W1.dot(X.T) + self.b1\n",
    "                Z1 = 1/(1+np.exp(-Z_1))\n",
    "                Z_2 = self.W2.dot(Z1) + self.b2\n",
    "                \n",
    "                  # Calculating gradients\n",
    "                dZ_2 = 2*(Z_2 - y.T)\n",
    "                dW_2 = 1/self.m*(dZ_2 @ Z1.T)\n",
    "                db_2 = (1/self.m*np.sum(dZ_2,axis = 1)).reshape(1,1)\n",
    "                dZ_1 = (self.W2.T @ dZ_2) * 1/(1+np.exp(-Z_1)) * (1 - 1/(1+np.exp(-Z_1)))\n",
    "                dW_1 = 1/self.m*(dZ_1 @ X)\n",
    "                db_1 = (1/self.m*np.sum(dZ_1,axis = 1)).reshape(5,1)\n",
    "\n",
    "                  # Updating weights and biases\n",
    "                self.W2 -= self.lr*dW_2\n",
    "                self.W1 -= self.lr*dW_1\n",
    "                self.b1 -= self.lr*db_1\n",
    "                self.b2 -= self.lr*db_2\n",
    "\n",
    "                \n",
    "        else:\n",
    "            y_pred = self.W2.dot(1/(1+np.exp(-(self.W1.dot(X.T) + self.b1)))) + self.b2\n",
    "        \n",
    "            return y_pred\n",
    "    \n",
    "    def Loss(self,y_pred,y):\n",
    "        loss = 1/self.m * (y_pred - y.T).dot((y_pred - y.T).T)\n",
    "        \n",
    "        return loss"
   ]
  },
  {
   "cell_type": "code",
   "execution_count": 25,
   "id": "b60c5aae",
   "metadata": {},
   "outputs": [],
   "source": [
    "from sklearn import datasets\n",
    "from sklearn.model_selection import train_test_split"
   ]
  },
  {
   "cell_type": "code",
   "execution_count": 34,
   "id": "c3bfbdde",
   "metadata": {},
   "outputs": [],
   "source": [
    "X, target = datasets.load_diabetes(return_X_y = True)\n",
    "X_train, X_test, y_train, y_test = train_test_split(X, target)\n",
    "y_train = y_train.reshape(331,1)\n",
    "y_test = y_test.reshape(111,1)"
   ]
  },
  {
   "cell_type": "code",
   "execution_count": 35,
   "id": "4fd01039",
   "metadata": {},
   "outputs": [],
   "source": [
    "Net = DenseNetwork(DenseLayer.init(5,10), DenseLayer.init(1,5))"
   ]
  },
  {
   "cell_type": "code",
   "execution_count": 36,
   "id": "15dcfd14",
   "metadata": {},
   "outputs": [],
   "source": [
    "Net.call(X_train, y_train, training = True)"
   ]
  },
  {
   "cell_type": "code",
   "execution_count": 40,
   "id": "3cc298b8",
   "metadata": {},
   "outputs": [],
   "source": [
    "y_pred = Net.call(X_test)"
   ]
  },
  {
   "cell_type": "code",
   "execution_count": 41,
   "id": "a0deab57",
   "metadata": {},
   "outputs": [
    {
     "data": {
      "text/plain": [
       "array([[985.46992896]])"
      ]
     },
     "execution_count": 41,
     "metadata": {},
     "output_type": "execute_result"
    }
   ],
   "source": [
    "Net.Loss(y_pred, y_test)"
   ]
  },
  {
   "cell_type": "code",
   "execution_count": null,
   "id": "ce7355b5",
   "metadata": {},
   "outputs": [],
   "source": []
  },
  {
   "cell_type": "code",
   "execution_count": null,
   "id": "d28cedf6",
   "metadata": {},
   "outputs": [],
   "source": []
  }
 ],
 "metadata": {
  "kernelspec": {
   "display_name": "Python 3 (ipykernel)",
   "language": "python",
   "name": "python3"
  },
  "language_info": {
   "codemirror_mode": {
    "name": "ipython",
    "version": 3
   },
   "file_extension": ".py",
   "mimetype": "text/x-python",
   "name": "python",
   "nbconvert_exporter": "python",
   "pygments_lexer": "ipython3",
   "version": "3.9.12"
  }
 },
 "nbformat": 4,
 "nbformat_minor": 5
}
