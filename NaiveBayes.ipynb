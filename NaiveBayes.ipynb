{
 "cells": [
  {
   "cell_type": "code",
   "execution_count": 149,
   "metadata": {},
   "outputs": [],
   "source": [
    "import numpy as np\n",
    "import pandas as pd"
   ]
  },
  {
   "cell_type": "code",
   "execution_count": 389,
   "metadata": {},
   "outputs": [],
   "source": [
    "class NaiveBayes:\n",
    "    def __init__(self):\n",
    "        self.priors = None\n",
    "        self.means_0 = None\n",
    "        self.means_1 = None\n",
    "        self.sigmas_0 = None\n",
    "        self.sigmas_1 = None\n",
    "    \n",
    "    def fit(self, X, y):\n",
    "        self.priors = [np.sum(y == 0)/len(y),np.sum(y == 1)/len(y)]\n",
    "        \n",
    "        X_0 = np.zeros((X.shape))\n",
    "        X_1 = np.zeros((X.shape))\n",
    "        \n",
    "        for i in range(X.shape[0]):\n",
    "            if y[i] == 1:\n",
    "                X_1[i] = X[i]\n",
    "            else:\n",
    "                X_0[i] = X[i]\n",
    "                \n",
    "        zero_rows = np.all(X_0 == 0, axis=1)\n",
    "        X_0 = X_0[~zero_rows]\n",
    "        zero_row = np.all(X_1 == 0, axis=1)\n",
    "        X_1 = X_1[~zero_row]\n",
    "        \n",
    "        self.means_0 = np.mean(X_0, axis =0)\n",
    "        self.sigmas_0 = np.std(X_0, axis =0)\n",
    "        \n",
    "        self.means_1 = np.mean(X_1, axis =0)\n",
    "        self.sigmas_1 = np.std(X_1, axis =0)\n",
    "        \n",
    "        return self.priors, self.means_0, self.means_1, self.sigmas_0, self.sigmas_1\n",
    "    \n",
    "    \n",
    "    def predict(self, X):\n",
    "        y_pred = np.zeros((X.shape[0],1))\n",
    "        \n",
    "        for i in range(X.shape[0]):\n",
    "            liklihood_0 = 1\n",
    "            liklihood_1 = 1\n",
    "            for j in range(X.shape[1]):\n",
    "                liklihood_0 *= 1/(self.sigmas_0[j] * np.sqrt(2 * np.pi)) * np.exp(-1/2 * ((X[i][j] - self.means_0[j])/self.sigmas_0[j])**2)\n",
    "                liklihood_1 *= 1/(self.sigmas_1[j] * np.sqrt(2 * np.pi)) * np.exp(-1/2 * ((X[i][j] - self.means_1[j])/self.sigmas_1[j])**2)\n",
    "            posterior_0 = self.priors[0]*liklihood_0\n",
    "            posterior_1 = self.priors[1]*liklihood_1\n",
    "            \n",
    "            if posterior_0 > posterior_1:\n",
    "                y_pred[i] = 0\n",
    "            else:\n",
    "                y_pred[i] = 1\n",
    "        \n",
    "        return y_pred\n",
    "                \n",
    "                \n",
    "                "
   ]
  },
  {
   "cell_type": "code",
   "execution_count": 390,
   "metadata": {},
   "outputs": [],
   "source": [
    "import pandas as pd\n",
    "from sklearn.datasets import load_iris\n",
    "X, y = load_iris(return_X_y=True)"
   ]
  },
  {
   "cell_type": "code",
   "execution_count": 391,
   "metadata": {},
   "outputs": [],
   "source": [
    "y = y[0:100]"
   ]
  },
  {
   "cell_type": "code",
   "execution_count": 392,
   "metadata": {},
   "outputs": [],
   "source": [
    "X = X[0:100]"
   ]
  },
  {
   "cell_type": "code",
   "execution_count": 393,
   "metadata": {},
   "outputs": [],
   "source": [
    "from sklearn.model_selection import train_test_split\n",
    "X_train, X_test, y_train, y_test = train_test_split(X, y, test_size = 0.25, random_state = 0)"
   ]
  },
  {
   "cell_type": "code",
   "execution_count": 394,
   "metadata": {},
   "outputs": [
    {
     "data": {
      "text/plain": [
       "(75, 4)"
      ]
     },
     "execution_count": 394,
     "metadata": {},
     "output_type": "execute_result"
    }
   ],
   "source": [
    "X_train.shape"
   ]
  },
  {
   "cell_type": "code",
   "execution_count": 395,
   "metadata": {},
   "outputs": [
    {
     "data": {
      "text/plain": [
       "(75,)"
      ]
     },
     "execution_count": 395,
     "metadata": {},
     "output_type": "execute_result"
    }
   ],
   "source": [
    "y_train.shape"
   ]
  },
  {
   "cell_type": "code",
   "execution_count": 396,
   "metadata": {},
   "outputs": [],
   "source": [
    "clf = NaiveBayes()"
   ]
  },
  {
   "cell_type": "code",
   "execution_count": 397,
   "metadata": {},
   "outputs": [
    {
     "data": {
      "text/plain": [
       "([0.49333333333333335, 0.5066666666666667],\n",
       " array([5.06486486, 3.45135135, 1.47297297, 0.24054054]),\n",
       " array([5.92368421, 2.78684211, 4.26578947, 1.33947368]),\n",
       " array([0.33467711, 0.37677265, 0.14823037, 0.09432394]),\n",
       " array([0.52437141, 0.31553718, 0.48627278, 0.20201547]))"
      ]
     },
     "execution_count": 397,
     "metadata": {},
     "output_type": "execute_result"
    }
   ],
   "source": [
    "clf.fit(X_train,y_train)"
   ]
  },
  {
   "cell_type": "code",
   "execution_count": 410,
   "metadata": {},
   "outputs": [
    {
     "data": {
      "text/plain": [
       "array([0, 1, 0, 1, 1, 1, 0, 1, 1, 1, 1, 1, 1, 0, 0, 0, 0, 0, 0, 0, 0, 1,\n",
       "       0, 1, 0])"
      ]
     },
     "execution_count": 410,
     "metadata": {},
     "output_type": "execute_result"
    }
   ],
   "source": [
    "y_test"
   ]
  },
  {
   "cell_type": "code",
   "execution_count": 405,
   "metadata": {},
   "outputs": [],
   "source": [
    "Y_test = y_test.reshape(-1,1)"
   ]
  },
  {
   "cell_type": "code",
   "execution_count": 406,
   "metadata": {},
   "outputs": [],
   "source": [
    "pr = clf.predict(X_test)"
   ]
  },
  {
   "cell_type": "code",
   "execution_count": 417,
   "metadata": {},
   "outputs": [],
   "source": [
    "accuracy = np.mean(pr == Y_test)"
   ]
  },
  {
   "cell_type": "code",
   "execution_count": 418,
   "metadata": {},
   "outputs": [
    {
     "data": {
      "text/plain": [
       "1.0"
      ]
     },
     "execution_count": 418,
     "metadata": {},
     "output_type": "execute_result"
    }
   ],
   "source": [
    "accuracy"
   ]
  },
  {
   "cell_type": "code",
   "execution_count": null,
   "metadata": {},
   "outputs": [],
   "source": []
  }
 ],
 "metadata": {
  "colab": {
   "name": "NaiveBayes.ipynb",
   "provenance": []
  },
  "kernelspec": {
   "display_name": "Python 3 (ipykernel)",
   "language": "python",
   "name": "python3"
  },
  "language_info": {
   "codemirror_mode": {
    "name": "ipython",
    "version": 3
   },
   "file_extension": ".py",
   "mimetype": "text/x-python",
   "name": "python",
   "nbconvert_exporter": "python",
   "pygments_lexer": "ipython3",
   "version": "3.9.12"
  }
 },
 "nbformat": 4,
 "nbformat_minor": 1
}
