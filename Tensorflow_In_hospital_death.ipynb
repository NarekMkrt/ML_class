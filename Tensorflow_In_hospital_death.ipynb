{
  "nbformat": 4,
  "nbformat_minor": 0,
  "metadata": {
    "colab": {
      "provenance": []
    },
    "kernelspec": {
      "name": "python3",
      "display_name": "Python 3"
    },
    "language_info": {
      "name": "python"
    }
  },
  "cells": [
    {
      "cell_type": "code",
      "source": [
        "import tensorflow as tf\n",
        "from tensorflow import keras\n",
        "from tensorflow.keras import layers\n",
        "import pandas as pd\n",
        "import numpy as np\n",
        "from sklearn.model_selection import train_test_split\n",
        "from sklearn.impute import SimpleImputer\n",
        "from sklearn.preprocessing import StandardScaler\n",
        "from sklearn.metrics import confusion_matrix\n",
        "from sklearn.metrics import matthews_corrcoef\n",
        "\n",
        "\n",
        "\n",
        "  #preprocessing\n",
        "class Preprocessor:\n",
        "    def __init__(self):\n",
        "        pass\n",
        "\n",
        "    def fit(self, data, numer, categ):\n",
        "        \n",
        "        # Filling Nun values with means in numerical columns and mode values in categorical columns\n",
        "        numm = data[numer]\n",
        "        cat = data[categ]\n",
        "\n",
        "        self.imp_mean = SimpleImputer(missing_values=np.nan, strategy='mean')\n",
        "        self.imp_mode = SimpleImputer(missing_values=np.nan, strategy='most_frequent')\n",
        "        self.scaler = StandardScaler()\n",
        "        self.imp_mean.fit(numm)\n",
        "        self.scaler.fit(numm)\n",
        "        self.imp_mode.fit(cat)\n",
        "\n",
        "    def transform(self, data, numer, categ):\n",
        "\n",
        "\n",
        "        numer = data[numer]\n",
        "        categ = data[categ]\n",
        "\n",
        "        n = self.scaler.transform(self.imp_mean.transform(numer))\n",
        "        c = self.imp_mode.transform(categ)\n",
        "        \n",
        "        final_data = pd.concat((pd.DataFrame(data = n, columns = numer.columns),\n",
        "                                pd.DataFrame(data = c, columns = categ.columns)), axis=1)\n",
        "\n",
        "        return final_data\n",
        "\n"
      ],
      "metadata": {
        "id": "lZGuqz8cGVYD"
      },
      "execution_count": 1,
      "outputs": []
    },
    {
      "cell_type": "code",
      "source": [
        "data = pd.read_csv('hospital_deaths_train.csv')\n",
        "\n",
        "\n",
        "target = data['In-hospital_death']\n",
        "X = data.drop('In-hospital_death', axis = 1)\n",
        "\n",
        "X_train, X_test, y_train, y_test = train_test_split(X, target)\n",
        "numer = ['Age', 'Glucose_first', 'HR_first',\n",
        "          'DiasABP_last', 'GCS_last', 'Glucose_last', 'HR_last', 'NIDiasABP_last', 'NIMAP_last',\n",
        "          'NISysABP_last', 'Temp_last', 'DiasABP_lowest', 'GCS_lowest', 'NIDiasABP_lowest',\n",
        "          'NIMAP_lowest', 'NISysABP_lowest', 'Temp_lowest', 'GCS_highest', 'Glucose_highest', 'HR_highest',\n",
        "          'GCS_median', 'Glucose_median', 'HR_median', 'NIDiasABP_median', 'NIMAP_median', 'NISysABP_median',\n",
        "          'Temp_median', 'BUN_first', 'Creatinine_first', 'HCO3_first', 'Lactate_first',\n",
        "          'PaO2_first', 'WBC_first', 'Weight_first', 'pH_first', 'BUN_last', 'Creatinine_last', 'FiO2_last',\n",
        "          'HCO3_last', 'Lactate_last', 'Mg_last',\n",
        "          'Na_last', 'PaCO2_last', 'SysABP_last', 'WBC_last', 'Weight_last', 'pH_last',\n",
        "          'MechVentDuration', 'UrineOutputSum']\n",
        "\n",
        "categ = ['MechVentLast8Hour', 'CSRU']"
      ],
      "metadata": {
        "id": "XcN2XMUPNpks"
      },
      "execution_count": 2,
      "outputs": []
    },
    {
      "cell_type": "code",
      "source": [
        "prep = Preprocessor()\n",
        "prep.fit(X_train, numer, categ)"
      ],
      "metadata": {
        "id": "Ui2hUvHRP37l"
      },
      "execution_count": 3,
      "outputs": []
    },
    {
      "cell_type": "code",
      "source": [
        "X_train_final = prep.transform(X_train, numer, categ)\n",
        "X_test_final = prep.transform(X_test, numer, categ)"
      ],
      "metadata": {
        "colab": {
          "base_uri": "https://localhost:8080/"
        },
        "id": "mkofebniUhmG",
        "outputId": "c322785b-2cd1-46e4-aded-4da4c524f91f"
      },
      "execution_count": 4,
      "outputs": [
        {
          "output_type": "stream",
          "name": "stderr",
          "text": [
            "/usr/local/lib/python3.10/dist-packages/sklearn/base.py:439: UserWarning: X does not have valid feature names, but StandardScaler was fitted with feature names\n",
            "  warnings.warn(\n",
            "/usr/local/lib/python3.10/dist-packages/sklearn/base.py:439: UserWarning: X does not have valid feature names, but StandardScaler was fitted with feature names\n",
            "  warnings.warn(\n"
          ]
        }
      ]
    },
    {
      "cell_type": "code",
      "source": [
        "model = keras.models.Sequential([\n",
        "    layers.Dense(128, activation='relu'),\n",
        "    layers.Dropout(0.2),\n",
        "    layers.Dense(64, activation='relu'),\n",
        "    layers.Dropout(0.2),\n",
        "    layers.Dense(1, activation='sigmoid')\n",
        "])\n",
        "\n",
        "model.compile(optimizer='adam',\n",
        "              loss='binary_crossentropy',\n",
        "              metrics=['accuracy'])\n",
        "\n",
        "\n",
        "model.fit(X_train_final, y_train, epochs=10, batch_size=32)\n",
        "\n",
        "\n",
        "loss, accuracy = model.evaluate(X_test_final, y_test)"
      ],
      "metadata": {
        "colab": {
          "base_uri": "https://localhost:8080/"
        },
        "id": "3Y6itLZ0M4pb",
        "outputId": "dd165bbe-958b-497c-e040-b33aae9c93b2"
      },
      "execution_count": 7,
      "outputs": [
        {
          "output_type": "stream",
          "name": "stdout",
          "text": [
            "Epoch 1/10\n",
            "77/77 [==============================] - 1s 2ms/step - loss: 0.4161 - accuracy: 0.8367\n",
            "Epoch 2/10\n",
            "77/77 [==============================] - 0s 1ms/step - loss: 0.3295 - accuracy: 0.8662\n",
            "Epoch 3/10\n",
            "77/77 [==============================] - 0s 2ms/step - loss: 0.3055 - accuracy: 0.8736\n",
            "Epoch 4/10\n",
            "77/77 [==============================] - 0s 2ms/step - loss: 0.2912 - accuracy: 0.8855\n",
            "Epoch 5/10\n",
            "77/77 [==============================] - 0s 2ms/step - loss: 0.2774 - accuracy: 0.8855\n",
            "Epoch 6/10\n",
            "77/77 [==============================] - 0s 1ms/step - loss: 0.2707 - accuracy: 0.8966\n",
            "Epoch 7/10\n",
            "77/77 [==============================] - 0s 2ms/step - loss: 0.2601 - accuracy: 0.8900\n",
            "Epoch 8/10\n",
            "77/77 [==============================] - 0s 2ms/step - loss: 0.2485 - accuracy: 0.9007\n",
            "Epoch 9/10\n",
            "77/77 [==============================] - 0s 1ms/step - loss: 0.2430 - accuracy: 0.9015\n",
            "Epoch 10/10\n",
            "77/77 [==============================] - 0s 2ms/step - loss: 0.2314 - accuracy: 0.9085\n",
            "26/26 [==============================] - 0s 1ms/step - loss: 0.3149 - accuracy: 0.8733\n"
          ]
        }
      ]
    },
    {
      "cell_type": "code",
      "source": [
        "predictions = model.predict(X_test_final)\n",
        "y_pred = [1 if pred > 0.30 else 0 for pred in predictions]"
      ],
      "metadata": {
        "colab": {
          "base_uri": "https://localhost:8080/"
        },
        "id": "Yb4wWtjKZ2Cy",
        "outputId": "cdd56482-ee87-40a0-c254-4b71bb3c39b7"
      },
      "execution_count": 12,
      "outputs": [
        {
          "output_type": "stream",
          "name": "stdout",
          "text": [
            "26/26 [==============================] - 0s 2ms/step\n"
          ]
        }
      ]
    },
    {
      "cell_type": "code",
      "source": [
        "cm = confusion_matrix(y_test, y_pred)\n",
        "Accuracy = (cm[0][0]+cm[1][1]) / (cm[0][0]+cm[1][1]+cm[0][1]+cm[1][0])\n",
        "Sensitivity = cm[0][0] / (cm[0][0] + cm[0][1])\n",
        "Specificity = cm[1][1] / (cm[1][1] + cm[1][0])\n",
        "MCC = matthews_corrcoef(y_test, y_pred)\n",
        "f1 = cm[1][1]/ (cm[1][1]+1/2*(cm[0][1]+cm[1][0]))\n",
        "result = np.array(['KNN',Accuracy,Sensitivity,Specificity,MCC,f1]).reshape(1,6)\n",
        "pand = pd.DataFrame(data = result, columns = ['model','Accuracy','Sensitivity','Specificity','MCC','f1'])\n",
        "pand.set_index('model', inplace = True)"
      ],
      "metadata": {
        "id": "cIldp3jVVPiJ"
      },
      "execution_count": 13,
      "outputs": []
    },
    {
      "cell_type": "code",
      "source": [
        "cm"
      ],
      "metadata": {
        "colab": {
          "base_uri": "https://localhost:8080/"
        },
        "id": "WL3S7J3bZ8-r",
        "outputId": "a8fc92f4-3bb6-4a9c-ac93-518a2c189bdd"
      },
      "execution_count": 14,
      "outputs": [
        {
          "output_type": "execute_result",
          "data": {
            "text/plain": [
              "array([[626,  69],\n",
              "       [ 64,  54]])"
            ]
          },
          "metadata": {},
          "execution_count": 14
        }
      ]
    },
    {
      "cell_type": "code",
      "source": [
        "pand"
      ],
      "metadata": {
        "colab": {
          "base_uri": "https://localhost:8080/",
          "height": 112
        },
        "id": "R9D3pYsDX0XK",
        "outputId": "2fd48fce-32a8-4107-98c6-37cb9aeece91"
      },
      "execution_count": 15,
      "outputs": [
        {
          "output_type": "execute_result",
          "data": {
            "text/plain": [
              "                 Accuracy         Sensitivity         Specificity  \\\n",
              "model                                                               \n",
              "KNN    0.8364083640836408  0.9007194244604316  0.4576271186440678   \n",
              "\n",
              "                      MCC                   f1  \n",
              "model                                           \n",
              "KNN    0.3522569124268261  0.44813278008298757  "
            ],
            "text/html": [
              "\n",
              "  <div id=\"df-af4fa2a2-b8d9-46ac-b59d-3dd96552a330\">\n",
              "    <div class=\"colab-df-container\">\n",
              "      <div>\n",
              "<style scoped>\n",
              "    .dataframe tbody tr th:only-of-type {\n",
              "        vertical-align: middle;\n",
              "    }\n",
              "\n",
              "    .dataframe tbody tr th {\n",
              "        vertical-align: top;\n",
              "    }\n",
              "\n",
              "    .dataframe thead th {\n",
              "        text-align: right;\n",
              "    }\n",
              "</style>\n",
              "<table border=\"1\" class=\"dataframe\">\n",
              "  <thead>\n",
              "    <tr style=\"text-align: right;\">\n",
              "      <th></th>\n",
              "      <th>Accuracy</th>\n",
              "      <th>Sensitivity</th>\n",
              "      <th>Specificity</th>\n",
              "      <th>MCC</th>\n",
              "      <th>f1</th>\n",
              "    </tr>\n",
              "    <tr>\n",
              "      <th>model</th>\n",
              "      <th></th>\n",
              "      <th></th>\n",
              "      <th></th>\n",
              "      <th></th>\n",
              "      <th></th>\n",
              "    </tr>\n",
              "  </thead>\n",
              "  <tbody>\n",
              "    <tr>\n",
              "      <th>KNN</th>\n",
              "      <td>0.8364083640836408</td>\n",
              "      <td>0.9007194244604316</td>\n",
              "      <td>0.4576271186440678</td>\n",
              "      <td>0.3522569124268261</td>\n",
              "      <td>0.44813278008298757</td>\n",
              "    </tr>\n",
              "  </tbody>\n",
              "</table>\n",
              "</div>\n",
              "      <button class=\"colab-df-convert\" onclick=\"convertToInteractive('df-af4fa2a2-b8d9-46ac-b59d-3dd96552a330')\"\n",
              "              title=\"Convert this dataframe to an interactive table.\"\n",
              "              style=\"display:none;\">\n",
              "        \n",
              "  <svg xmlns=\"http://www.w3.org/2000/svg\" height=\"24px\"viewBox=\"0 0 24 24\"\n",
              "       width=\"24px\">\n",
              "    <path d=\"M0 0h24v24H0V0z\" fill=\"none\"/>\n",
              "    <path d=\"M18.56 5.44l.94 2.06.94-2.06 2.06-.94-2.06-.94-.94-2.06-.94 2.06-2.06.94zm-11 1L8.5 8.5l.94-2.06 2.06-.94-2.06-.94L8.5 2.5l-.94 2.06-2.06.94zm10 10l.94 2.06.94-2.06 2.06-.94-2.06-.94-.94-2.06-.94 2.06-2.06.94z\"/><path d=\"M17.41 7.96l-1.37-1.37c-.4-.4-.92-.59-1.43-.59-.52 0-1.04.2-1.43.59L10.3 9.45l-7.72 7.72c-.78.78-.78 2.05 0 2.83L4 21.41c.39.39.9.59 1.41.59.51 0 1.02-.2 1.41-.59l7.78-7.78 2.81-2.81c.8-.78.8-2.07 0-2.86zM5.41 20L4 18.59l7.72-7.72 1.47 1.35L5.41 20z\"/>\n",
              "  </svg>\n",
              "      </button>\n",
              "      \n",
              "  <style>\n",
              "    .colab-df-container {\n",
              "      display:flex;\n",
              "      flex-wrap:wrap;\n",
              "      gap: 12px;\n",
              "    }\n",
              "\n",
              "    .colab-df-convert {\n",
              "      background-color: #E8F0FE;\n",
              "      border: none;\n",
              "      border-radius: 50%;\n",
              "      cursor: pointer;\n",
              "      display: none;\n",
              "      fill: #1967D2;\n",
              "      height: 32px;\n",
              "      padding: 0 0 0 0;\n",
              "      width: 32px;\n",
              "    }\n",
              "\n",
              "    .colab-df-convert:hover {\n",
              "      background-color: #E2EBFA;\n",
              "      box-shadow: 0px 1px 2px rgba(60, 64, 67, 0.3), 0px 1px 3px 1px rgba(60, 64, 67, 0.15);\n",
              "      fill: #174EA6;\n",
              "    }\n",
              "\n",
              "    [theme=dark] .colab-df-convert {\n",
              "      background-color: #3B4455;\n",
              "      fill: #D2E3FC;\n",
              "    }\n",
              "\n",
              "    [theme=dark] .colab-df-convert:hover {\n",
              "      background-color: #434B5C;\n",
              "      box-shadow: 0px 1px 3px 1px rgba(0, 0, 0, 0.15);\n",
              "      filter: drop-shadow(0px 1px 2px rgba(0, 0, 0, 0.3));\n",
              "      fill: #FFFFFF;\n",
              "    }\n",
              "  </style>\n",
              "\n",
              "      <script>\n",
              "        const buttonEl =\n",
              "          document.querySelector('#df-af4fa2a2-b8d9-46ac-b59d-3dd96552a330 button.colab-df-convert');\n",
              "        buttonEl.style.display =\n",
              "          google.colab.kernel.accessAllowed ? 'block' : 'none';\n",
              "\n",
              "        async function convertToInteractive(key) {\n",
              "          const element = document.querySelector('#df-af4fa2a2-b8d9-46ac-b59d-3dd96552a330');\n",
              "          const dataTable =\n",
              "            await google.colab.kernel.invokeFunction('convertToInteractive',\n",
              "                                                     [key], {});\n",
              "          if (!dataTable) return;\n",
              "\n",
              "          const docLinkHtml = 'Like what you see? Visit the ' +\n",
              "            '<a target=\"_blank\" href=https://colab.research.google.com/notebooks/data_table.ipynb>data table notebook</a>'\n",
              "            + ' to learn more about interactive tables.';\n",
              "          element.innerHTML = '';\n",
              "          dataTable['output_type'] = 'display_data';\n",
              "          await google.colab.output.renderOutput(dataTable, element);\n",
              "          const docLink = document.createElement('div');\n",
              "          docLink.innerHTML = docLinkHtml;\n",
              "          element.appendChild(docLink);\n",
              "        }\n",
              "      </script>\n",
              "    </div>\n",
              "  </div>\n",
              "  "
            ]
          },
          "metadata": {},
          "execution_count": 15
        }
      ]
    },
    {
      "cell_type": "code",
      "source": [],
      "metadata": {
        "id": "xiYUd4AKYk_i"
      },
      "execution_count": null,
      "outputs": []
    }
  ]
}